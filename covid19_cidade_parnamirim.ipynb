{
  "nbformat": 4,
  "nbformat_minor": 0,
  "metadata": {
    "colab": {
      "name": "covid19_cidade_parnamirim",
      "provenance": [],
      "collapsed_sections": [],
      "authorship_tag": "ABX9TyPbrZXS/2Ze2Y2iHc0CGT9Q",
      "include_colab_link": true
    },
    "kernelspec": {
      "name": "python3",
      "display_name": "Python 3"
    }
  },
  "cells": [
    {
      "cell_type": "markdown",
      "metadata": {
        "id": "view-in-github",
        "colab_type": "text"
      },
      "source": [
        "<a href=\"https://colab.research.google.com/github/wevertonAraujo/projeto_final_python_4_cidades/blob/master/covid19_cidade_parnamirim.ipynb\" target=\"_parent\"><img src=\"https://colab.research.google.com/assets/colab-badge.svg\" alt=\"Open In Colab\"/></a>"
      ]
    },
    {
      "cell_type": "markdown",
      "metadata": {
        "id": "o7sLzQj6HKjG",
        "colab_type": "text"
      },
      "source": [
        "# **Apresentação de um Projeto do Curso de Introdução a Linguagem Python.**\n",
        "\n",
        "---\n",
        "\n",
        "# RESUMO\n",
        "\n",
        "Projeto de criação de um algoritimo destinado a mostrar os resultados do Covid-19 da Cidade de Parnamirim/RN em modo de apresentação de Graficos, utilizando a linguagem *PYTHON* e suas bibliotecas: *NUMPY*, *PANDA* e *MATPLOTLIB*.\n",
        "\n",
        "Gráficos representando os números por dia e totais de óbitos e de casos de covid-19 na cidade Parnamirim/RN com maior contingente populacional.\n",
        "\n",
        "Saúde e Bem-estar é o 3° objetivo da ONU para transformar nosso mundo.\n",
        "\n",
        "---\n",
        "\n",
        "\n"
      ]
    },
    {
      "cell_type": "code",
      "metadata": {
        "id": "klF3b16MHLEB",
        "colab_type": "code",
        "colab": {}
      },
      "source": [
        "#Importando as Bibliotecas necessária\n",
        "import matplotlib.pyplot as plt\n",
        "import numpy as np\n",
        "import pandas as pd"
      ],
      "execution_count": 270,
      "outputs": []
    },
    {
      "cell_type": "markdown",
      "metadata": {
        "id": "1rQri18OgELa",
        "colab_type": "text"
      },
      "source": [
        "Arquivo .csv obtido diretamente do portal do >> [Corona virus RN](https://covid.lais.ufrn.br) << acessado em 17/06/2020;\n",
        "\n",
        "Recolocado em meu repositório >>https://raw.githubusercontent.com/wevertonAraujo/projeto_final_python_4_cidades/master/dados/Casos_RN_covid.csv <<\n",
        "\n",
        "---\n",
        "\n"
      ]
    },
    {
      "cell_type": "code",
      "metadata": {
        "id": "pmIQ6FvnkrRp",
        "colab_type": "code",
        "colab": {
          "base_uri": "https://localhost:8080/",
          "height": 309
        },
        "outputId": "ee1c9424-cd4f-48d7-a568-c17ba46ab41a"
      },
      "source": [
        "# Função para pegar o arquivo .csv do repositorio GitHub e em seguida mostrar\n",
        "dados = pd.read_csv('https://raw.githubusercontent.com/wevertonAraujo/projeto_final_python_4_cidades/master/dados/Casos_RN_covid.csv')\n",
        "dados.head()"
      ],
      "execution_count": 271,
      "outputs": [
        {
          "output_type": "execute_result",
          "data": {
            "text/html": [
              "<div>\n",
              "<style scoped>\n",
              "    .dataframe tbody tr th:only-of-type {\n",
              "        vertical-align: middle;\n",
              "    }\n",
              "\n",
              "    .dataframe tbody tr th {\n",
              "        vertical-align: top;\n",
              "    }\n",
              "\n",
              "    .dataframe thead th {\n",
              "        text-align: right;\n",
              "    }\n",
              "</style>\n",
              "<table border=\"1\" class=\"dataframe\">\n",
              "  <thead>\n",
              "    <tr style=\"text-align: right;\">\n",
              "      <th></th>\n",
              "      <th>epidemiological_week</th>\n",
              "      <th>date</th>\n",
              "      <th>order_for_place</th>\n",
              "      <th>state</th>\n",
              "      <th>city</th>\n",
              "      <th>city_ibge_code</th>\n",
              "      <th>place_type</th>\n",
              "      <th>last_available_confirmed</th>\n",
              "      <th>last_available_confirmed_per_100k_inhabitants</th>\n",
              "      <th>new_confirmed</th>\n",
              "      <th>last_available_deaths</th>\n",
              "      <th>new_deaths</th>\n",
              "      <th>last_available_death_rate</th>\n",
              "      <th>estimated_population_2019</th>\n",
              "      <th>is_last</th>\n",
              "      <th>is_repeated</th>\n",
              "    </tr>\n",
              "  </thead>\n",
              "  <tbody>\n",
              "    <tr>\n",
              "      <th>0</th>\n",
              "      <td>25</td>\n",
              "      <td>2020-06-17</td>\n",
              "      <td>66</td>\n",
              "      <td>RN</td>\n",
              "      <td>Acari</td>\n",
              "      <td>2400109.0</td>\n",
              "      <td>city</td>\n",
              "      <td>8</td>\n",
              "      <td>71.83908</td>\n",
              "      <td>0</td>\n",
              "      <td>0</td>\n",
              "      <td>0</td>\n",
              "      <td>0.0000</td>\n",
              "      <td>11136.0</td>\n",
              "      <td>False</td>\n",
              "      <td>True</td>\n",
              "    </tr>\n",
              "    <tr>\n",
              "      <th>1</th>\n",
              "      <td>25</td>\n",
              "      <td>2020-06-17</td>\n",
              "      <td>82</td>\n",
              "      <td>RN</td>\n",
              "      <td>Açu</td>\n",
              "      <td>2400208.0</td>\n",
              "      <td>city</td>\n",
              "      <td>217</td>\n",
              "      <td>374.02830</td>\n",
              "      <td>0</td>\n",
              "      <td>9</td>\n",
              "      <td>0</td>\n",
              "      <td>0.0415</td>\n",
              "      <td>58017.0</td>\n",
              "      <td>False</td>\n",
              "      <td>True</td>\n",
              "    </tr>\n",
              "    <tr>\n",
              "      <th>2</th>\n",
              "      <td>25</td>\n",
              "      <td>2020-06-17</td>\n",
              "      <td>44</td>\n",
              "      <td>RN</td>\n",
              "      <td>Afonso Bezerra</td>\n",
              "      <td>2400307.0</td>\n",
              "      <td>city</td>\n",
              "      <td>21</td>\n",
              "      <td>190.30358</td>\n",
              "      <td>0</td>\n",
              "      <td>3</td>\n",
              "      <td>0</td>\n",
              "      <td>0.1429</td>\n",
              "      <td>11035.0</td>\n",
              "      <td>False</td>\n",
              "      <td>True</td>\n",
              "    </tr>\n",
              "    <tr>\n",
              "      <th>3</th>\n",
              "      <td>25</td>\n",
              "      <td>2020-06-17</td>\n",
              "      <td>58</td>\n",
              "      <td>RN</td>\n",
              "      <td>Alexandria</td>\n",
              "      <td>2400505.0</td>\n",
              "      <td>city</td>\n",
              "      <td>8</td>\n",
              "      <td>58.92318</td>\n",
              "      <td>0</td>\n",
              "      <td>1</td>\n",
              "      <td>0</td>\n",
              "      <td>0.1250</td>\n",
              "      <td>13577.0</td>\n",
              "      <td>False</td>\n",
              "      <td>True</td>\n",
              "    </tr>\n",
              "    <tr>\n",
              "      <th>4</th>\n",
              "      <td>25</td>\n",
              "      <td>2020-06-17</td>\n",
              "      <td>37</td>\n",
              "      <td>RN</td>\n",
              "      <td>Almino Afonso</td>\n",
              "      <td>2400604.0</td>\n",
              "      <td>city</td>\n",
              "      <td>6</td>\n",
              "      <td>126.71595</td>\n",
              "      <td>0</td>\n",
              "      <td>0</td>\n",
              "      <td>0</td>\n",
              "      <td>0.0000</td>\n",
              "      <td>4735.0</td>\n",
              "      <td>False</td>\n",
              "      <td>True</td>\n",
              "    </tr>\n",
              "  </tbody>\n",
              "</table>\n",
              "</div>"
            ],
            "text/plain": [
              "   epidemiological_week        date  ...  is_last is_repeated\n",
              "0                    25  2020-06-17  ...    False        True\n",
              "1                    25  2020-06-17  ...    False        True\n",
              "2                    25  2020-06-17  ...    False        True\n",
              "3                    25  2020-06-17  ...    False        True\n",
              "4                    25  2020-06-17  ...    False        True\n",
              "\n",
              "[5 rows x 16 columns]"
            ]
          },
          "metadata": {
            "tags": []
          },
          "execution_count": 271
        }
      ]
    },
    {
      "cell_type": "code",
      "metadata": {
        "id": "mKOCr6PJlGPJ",
        "colab_type": "code",
        "colab": {
          "base_uri": "https://localhost:8080/",
          "height": 309
        },
        "outputId": "963015a0-e631-4200-e2d1-dcc324002ee1"
      },
      "source": [
        "# Função para fazer uma pesquisa pela Cidade de Parnamirim\n",
        "df1 = dados[dados['city'] == 'Parnamirim']\n",
        "df1.head()"
      ],
      "execution_count": 272,
      "outputs": [
        {
          "output_type": "execute_result",
          "data": {
            "text/html": [
              "<div>\n",
              "<style scoped>\n",
              "    .dataframe tbody tr th:only-of-type {\n",
              "        vertical-align: middle;\n",
              "    }\n",
              "\n",
              "    .dataframe tbody tr th {\n",
              "        vertical-align: top;\n",
              "    }\n",
              "\n",
              "    .dataframe thead th {\n",
              "        text-align: right;\n",
              "    }\n",
              "</style>\n",
              "<table border=\"1\" class=\"dataframe\">\n",
              "  <thead>\n",
              "    <tr style=\"text-align: right;\">\n",
              "      <th></th>\n",
              "      <th>epidemiological_week</th>\n",
              "      <th>date</th>\n",
              "      <th>order_for_place</th>\n",
              "      <th>state</th>\n",
              "      <th>city</th>\n",
              "      <th>city_ibge_code</th>\n",
              "      <th>place_type</th>\n",
              "      <th>last_available_confirmed</th>\n",
              "      <th>last_available_confirmed_per_100k_inhabitants</th>\n",
              "      <th>new_confirmed</th>\n",
              "      <th>last_available_deaths</th>\n",
              "      <th>new_deaths</th>\n",
              "      <th>last_available_death_rate</th>\n",
              "      <th>estimated_population_2019</th>\n",
              "      <th>is_last</th>\n",
              "      <th>is_repeated</th>\n",
              "    </tr>\n",
              "  </thead>\n",
              "  <tbody>\n",
              "    <tr>\n",
              "      <th>92</th>\n",
              "      <td>25</td>\n",
              "      <td>2020-06-17</td>\n",
              "      <td>90</td>\n",
              "      <td>RN</td>\n",
              "      <td>Parnamirim</td>\n",
              "      <td>2403251.0</td>\n",
              "      <td>city</td>\n",
              "      <td>1462</td>\n",
              "      <td>559.14850</td>\n",
              "      <td>0</td>\n",
              "      <td>41</td>\n",
              "      <td>0</td>\n",
              "      <td>0.0280</td>\n",
              "      <td>261469.0</td>\n",
              "      <td>False</td>\n",
              "      <td>True</td>\n",
              "    </tr>\n",
              "    <tr>\n",
              "      <th>251</th>\n",
              "      <td>25</td>\n",
              "      <td>2020-06-16</td>\n",
              "      <td>89</td>\n",
              "      <td>RN</td>\n",
              "      <td>Parnamirim</td>\n",
              "      <td>2403251.0</td>\n",
              "      <td>city</td>\n",
              "      <td>1462</td>\n",
              "      <td>559.14850</td>\n",
              "      <td>0</td>\n",
              "      <td>41</td>\n",
              "      <td>0</td>\n",
              "      <td>0.0280</td>\n",
              "      <td>261469.0</td>\n",
              "      <td>False</td>\n",
              "      <td>True</td>\n",
              "    </tr>\n",
              "    <tr>\n",
              "      <th>410</th>\n",
              "      <td>25</td>\n",
              "      <td>2020-06-15</td>\n",
              "      <td>88</td>\n",
              "      <td>RN</td>\n",
              "      <td>Parnamirim</td>\n",
              "      <td>2403251.0</td>\n",
              "      <td>city</td>\n",
              "      <td>1462</td>\n",
              "      <td>559.14850</td>\n",
              "      <td>86</td>\n",
              "      <td>41</td>\n",
              "      <td>7</td>\n",
              "      <td>0.0280</td>\n",
              "      <td>261469.0</td>\n",
              "      <td>True</td>\n",
              "      <td>False</td>\n",
              "    </tr>\n",
              "    <tr>\n",
              "      <th>569</th>\n",
              "      <td>25</td>\n",
              "      <td>2020-06-14</td>\n",
              "      <td>87</td>\n",
              "      <td>RN</td>\n",
              "      <td>Parnamirim</td>\n",
              "      <td>2403251.0</td>\n",
              "      <td>city</td>\n",
              "      <td>1376</td>\n",
              "      <td>526.25741</td>\n",
              "      <td>61</td>\n",
              "      <td>34</td>\n",
              "      <td>4</td>\n",
              "      <td>0.0247</td>\n",
              "      <td>261469.0</td>\n",
              "      <td>False</td>\n",
              "      <td>False</td>\n",
              "    </tr>\n",
              "    <tr>\n",
              "      <th>726</th>\n",
              "      <td>24</td>\n",
              "      <td>2020-06-13</td>\n",
              "      <td>86</td>\n",
              "      <td>RN</td>\n",
              "      <td>Parnamirim</td>\n",
              "      <td>2403251.0</td>\n",
              "      <td>city</td>\n",
              "      <td>1315</td>\n",
              "      <td>502.92769</td>\n",
              "      <td>0</td>\n",
              "      <td>30</td>\n",
              "      <td>0</td>\n",
              "      <td>0.0228</td>\n",
              "      <td>261469.0</td>\n",
              "      <td>False</td>\n",
              "      <td>False</td>\n",
              "    </tr>\n",
              "  </tbody>\n",
              "</table>\n",
              "</div>"
            ],
            "text/plain": [
              "     epidemiological_week        date  ...  is_last is_repeated\n",
              "92                     25  2020-06-17  ...    False        True\n",
              "251                    25  2020-06-16  ...    False        True\n",
              "410                    25  2020-06-15  ...     True       False\n",
              "569                    25  2020-06-14  ...    False       False\n",
              "726                    24  2020-06-13  ...    False       False\n",
              "\n",
              "[5 rows x 16 columns]"
            ]
          },
          "metadata": {
            "tags": []
          },
          "execution_count": 272
        }
      ]
    },
    {
      "cell_type": "markdown",
      "metadata": {
        "id": "w8lkhSz_gwWI",
        "colab_type": "text"
      },
      "source": [
        "Arquivo .csv editado do arquivo anterior\n",
        "\n",
        "---\n",
        "\n"
      ]
    },
    {
      "cell_type": "code",
      "metadata": {
        "id": "o-RFOe2m86Qu",
        "colab_type": "code",
        "colab": {
          "base_uri": "https://localhost:8080/",
          "height": 204
        },
        "outputId": "f1748a2b-6807-459e-ab8d-e54cc5cbc9d0"
      },
      "source": [
        "# Arquivo .csv editado do arquivo anterior\n",
        "# Função para pegar o arquivo .csv do repositorio GitHub e em seguida mostrar\n",
        "df = pd.read_csv('https://raw.githubusercontent.com/wevertonAraujo/projeto_final_python_4_cidades/master/dados/dados_covid19_cidade_parnamirim.csv')\n",
        "df.head()"
      ],
      "execution_count": 273,
      "outputs": [
        {
          "output_type": "execute_result",
          "data": {
            "text/html": [
              "<div>\n",
              "<style scoped>\n",
              "    .dataframe tbody tr th:only-of-type {\n",
              "        vertical-align: middle;\n",
              "    }\n",
              "\n",
              "    .dataframe tbody tr th {\n",
              "        vertical-align: top;\n",
              "    }\n",
              "\n",
              "    .dataframe thead th {\n",
              "        text-align: right;\n",
              "    }\n",
              "</style>\n",
              "<table border=\"1\" class=\"dataframe\">\n",
              "  <thead>\n",
              "    <tr style=\"text-align: right;\">\n",
              "      <th></th>\n",
              "      <th>Data</th>\n",
              "      <th>Cidade</th>\n",
              "      <th>Total_Confirmados</th>\n",
              "      <th>Confirmados_Dia</th>\n",
              "      <th>Total_Obitos</th>\n",
              "      <th>Obitos_Dia</th>\n",
              "    </tr>\n",
              "  </thead>\n",
              "  <tbody>\n",
              "    <tr>\n",
              "      <th>0</th>\n",
              "      <td>20/03</td>\n",
              "      <td>Parnamirim</td>\n",
              "      <td>1</td>\n",
              "      <td>1</td>\n",
              "      <td>0</td>\n",
              "      <td>0</td>\n",
              "    </tr>\n",
              "    <tr>\n",
              "      <th>1</th>\n",
              "      <td>21/03</td>\n",
              "      <td>Parnamirim</td>\n",
              "      <td>2</td>\n",
              "      <td>1</td>\n",
              "      <td>0</td>\n",
              "      <td>0</td>\n",
              "    </tr>\n",
              "    <tr>\n",
              "      <th>2</th>\n",
              "      <td>22/03</td>\n",
              "      <td>Parnamirim</td>\n",
              "      <td>3</td>\n",
              "      <td>1</td>\n",
              "      <td>0</td>\n",
              "      <td>0</td>\n",
              "    </tr>\n",
              "    <tr>\n",
              "      <th>3</th>\n",
              "      <td>23/03</td>\n",
              "      <td>Parnamirim</td>\n",
              "      <td>3</td>\n",
              "      <td>0</td>\n",
              "      <td>0</td>\n",
              "      <td>0</td>\n",
              "    </tr>\n",
              "    <tr>\n",
              "      <th>4</th>\n",
              "      <td>24/03</td>\n",
              "      <td>Parnamirim</td>\n",
              "      <td>4</td>\n",
              "      <td>1</td>\n",
              "      <td>0</td>\n",
              "      <td>0</td>\n",
              "    </tr>\n",
              "  </tbody>\n",
              "</table>\n",
              "</div>"
            ],
            "text/plain": [
              "    Data      Cidade  ...  Total_Obitos  Obitos_Dia\n",
              "0  20/03  Parnamirim  ...             0           0\n",
              "1  21/03  Parnamirim  ...             0           0\n",
              "2  22/03  Parnamirim  ...             0           0\n",
              "3  23/03  Parnamirim  ...             0           0\n",
              "4  24/03  Parnamirim  ...             0           0\n",
              "\n",
              "[5 rows x 6 columns]"
            ]
          },
          "metadata": {
            "tags": []
          },
          "execution_count": 273
        }
      ]
    },
    {
      "cell_type": "markdown",
      "metadata": {
        "id": "7DzPsGD1hr-s",
        "colab_type": "text"
      },
      "source": [
        "Codigo para plotar os graficos obtidos das consultas do dados ao arquivo .CSV\n",
        "\n",
        "---\n",
        "\n"
      ]
    },
    {
      "cell_type": "code",
      "metadata": {
        "id": "u5IRhEzJalk9",
        "colab_type": "code",
        "colab": {
          "base_uri": "https://localhost:8080/",
          "height": 423
        },
        "outputId": "fbf7c086-6924-4818-a752-d3c578e0a7a9"
      },
      "source": [
        "# Alterando o tamanho do Gráfico\n",
        "plt.figure(figsize=(20, 6))\n",
        "\n",
        "# Atribuindo um título ao Gráfico\n",
        "plt.title('Covid 19 - Parnamirim/RN')\n",
        "plt.xlabel('Total dos Casos Confirmados por Dia')\n",
        "plt.ylabel('Total de Casos')\n",
        " \n",
        "# Criando um gráfico e Atribuindo uma legenda\n",
        "plt.bar(np.arange(len(df)), df['Total_Confirmados'], label='Total de Casos Confirmados', color='#F4A460', width=0.6, edgecolor='white')\n",
        "plt.xticks(np.arange(len(df)), df['Data'], rotation=90)\n",
        "plt.legend()\n",
        "\n",
        "# Exibindo o gráfico gerado\n",
        "plt.show()"
      ],
      "execution_count": 274,
      "outputs": [
        {
          "output_type": "display_data",
          "data": {
            "image/png": "[encoded data removed]",
            "text/plain": [
              "<Figure size 1440x432 with 1 Axes>"
            ]
          },
          "metadata": {
            "tags": [],
            "needs_background": "light"
          }
        }
      ]
    },
    {
      "cell_type": "code",
      "metadata": {
        "id": "QAKMH78icTzx",
        "colab_type": "code",
        "colab": {
          "base_uri": "https://localhost:8080/",
          "height": 423
        },
        "outputId": "37304eec-42ae-4a8c-a908-23706630c62e"
      },
      "source": [
        "# Alterando o tamanho do Gráfico\n",
        "plt.figure(figsize=(20, 6))\n",
        "\n",
        "# Atribuindo um título ao Gráfico\n",
        "plt.title('Covid 19 - Parnamirim/RN')\n",
        "plt.xlabel('Casos Confirmados por Dia')\n",
        "plt.ylabel('Total de Casos')\n",
        " \n",
        "# Criando um gráfico e Atribuindo uma legenda\n",
        "plt.bar(np.arange(len(df)), df['Confirmados_Dia'], label='Casos Confirmados Por Dia', color='b', width=0.6, edgecolor='white')\n",
        "plt.xticks(np.arange(len(df)), df['Data'], rotation=90)\n",
        "plt.legend()\n",
        "\n",
        "# Exibindo o gráfico gerado\n",
        "plt.show()"
      ],
      "execution_count": 275,
      "outputs": [
        {
          "output_type": "display_data",
          "data": {
            "image/png": "[encoded data removed]",
            "text/plain": [
              "<Figure size 1440x432 with 1 Axes>"
            ]
          },
          "metadata": {
            "tags": [],
            "needs_background": "light"
          }
        }
      ]
    },
    {
      "cell_type": "code",
      "metadata": {
        "id": "JKqUH8BZdNto",
        "colab_type": "code",
        "colab": {
          "base_uri": "https://localhost:8080/",
          "height": 425
        },
        "outputId": "1d865b61-230b-47b9-9e3b-8031109947e3"
      },
      "source": [
        "# Alterando o tamanho do Gráfico\n",
        "plt.figure(figsize=(20, 6))\n",
        "\n",
        "# Atribuindo um título ao Gráfico\n",
        "plt.title('Covid 19 - Parnamirim/RN')\n",
        "plt.xlabel('Total de Óbitos por Dia')\n",
        "plt.ylabel('Total de Óbitos')\n",
        " \n",
        "# Criando um gráfico e Atribuindo uma legenda\n",
        "plt.bar(np.arange(len(df)), df['Total_Obitos'], label='Total de Óbitos', color='red', width=0.6, edgecolor='white')\n",
        "plt.xticks(np.arange(len(df)), df['Data'], rotation=90)\n",
        "plt.legend()\n",
        "\n",
        "# Exibindo o gráfico gerado\n",
        "plt.show()"
      ],
      "execution_count": 276,
      "outputs": [
        {
          "output_type": "display_data",
          "data": {
            "image/png": "[encoded data removed]",
            "text/plain": [
              "<Figure size 1440x432 with 1 Axes>"
            ]
          },
          "metadata": {
            "tags": [],
            "needs_background": "light"
          }
        }
      ]
    },
    {
      "cell_type": "code",
      "metadata": {
        "id": "QgjNVCABdrvL",
        "colab_type": "code",
        "colab": {
          "base_uri": "https://localhost:8080/",
          "height": 425
        },
        "outputId": "b832caf6-d910-414e-90e7-451e79d85e44"
      },
      "source": [
        "# Alterando o tamanho do Gráfico\n",
        "plt.figure(figsize=(20, 6))\n",
        "\n",
        "# Atribuindo um título ao Gráfico\n",
        "plt.title('Covid 19 - Parnamirim/RN')\n",
        "plt.xlabel('Óbitos por Dia')\n",
        "plt.ylabel('Total de Óbitos')\n",
        " \n",
        "# Criando um gráfico e Atribuindo uma legenda\n",
        "plt.bar(np.arange(len(df)), df['Obitos_Dia'], label='Óbitos Por Dia', color='#8B0000', width=0.6, edgecolor='white')\n",
        "plt.xticks(np.arange(len(df)), df['Data'], rotation=90)\n",
        "plt.legend()\n",
        "\n",
        "# Exibindo o gráfico gerado\n",
        "plt.show()"
      ],
      "execution_count": 277,
      "outputs": [
        {
          "output_type": "display_data",
          "data": {
            "image/png": "[encoded data removed]",
            "text/plain": [
              "<Figure size 1440x432 with 1 Axes>"
            ]
          },
          "metadata": {
            "tags": [],
            "needs_background": "light"
          }
        }
      ]
    }
  ]
}