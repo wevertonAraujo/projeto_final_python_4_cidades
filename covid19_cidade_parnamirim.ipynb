{
  "nbformat": 4,
  "nbformat_minor": 0,
  "metadata": {
    "colab": {
      "name": "covid19_cidade_parnamirim",
      "provenance": [],
      "collapsed_sections": [],
      "authorship_tag": "ABX9TyPbrZXS/2Ze2Y2iHc0CGT9Q",
      "include_colab_link": true
    },
    "kernelspec": {
      "name": "python3",
      "display_name": "Python 3"
    }
  },
  "cells": [
    {
      "cell_type": "markdown",
      "metadata": {
        "id": "view-in-github",
        "colab_type": "text"
      },
      "source": [
        "<a href=\"https://colab.research.google.com/github/wevertonAraujo/projeto_final_python_4_cidades/blob/master/covid19_cidade_parnamirim.ipynb\" target=\"_parent\"><img src=\"https://colab.research.google.com/assets/colab-badge.svg\" alt=\"Open In Colab\"/></a>"
      ]
    },
    {
      "cell_type": "markdown",
      "metadata": {
        "id": "o7sLzQj6HKjG",
        "colab_type": "text"
      },
      "source": [
        "# **Apresentação de um Projeto do Curso de Introdução a Linguagem Python.**\n",
        "\n",
        "---\n",
        "\n",
        "# RESUMO\n",
        "\n",
        "Projeto de criação de um algoritimo destinado a mostrar os resultados do Covid-19 da Cidade de Parnamirim/RN em modo de apresentação de Graficos, utilizando a linguagem *PYTHON* e suas bibliotecas: *NUMPY*, *PANDA* e *MATPLOTLIB*.\n",
        "\n",
        "Gráficos representando os números por dia e totais de óbitos e de casos de covid-19 na cidade Parnamirim/RN com maior contingente populacional.\n",
        "\n",
        "Saúde e Bem-estar é o 3° objetivo da ONU para transformar nosso mundo.\n",
        "\n",
        "---\n",
        "\n",
        "\n"
      ]
    },
    {
      "cell_type": "code",
      "metadata": {
        "id": "klF3b16MHLEB",
        "colab_type": "code",
        "colab": {}
      },
      "source": [
        "#Importando as Bibliotecas necessária\n",
        "import matplotlib.pyplot as plt\n",
        "import numpy as np\n",
        "import pandas as pd"
      ],
      "execution_count": null,
      "outputs": []
    },
    {
      "cell_type": "markdown",
      "metadata": {
        "id": "1rQri18OgELa",
        "colab_type": "text"
      },
      "source": [
        "Arquivo .csv obtido diretamente do portal do >> [Corona virus RN](https://covid.lais.ufrn.br) << acessado em 17/06/2020;\n",
        "\n",
        "Recolocado em meu repositório >>https://raw.githubusercontent.com/wevertonAraujo/projeto_final_python_4_cidades/master/dados/Casos_RN_covid.csv <<\n",
        "\n",
        "---\n",
        "\n"
      ]
    },
    {
      "cell_type": "code",
      "metadata": {
        "id": "pmIQ6FvnkrRp",
        "colab_type": "code",
        "colab": {}
      },
      "source": [
        "# Função para pegar o arquivo .csv do repositorio GitHub e em seguida mostrar\n",
        "dados = pd.read_csv('https://raw.githubusercontent.com/wevertonAraujo/projeto_final_python_4_cidades/master/dados/Casos_RN_covid.csv')\n",
        "dados.head()"
      ],
      "execution_count": null,
      "outputs": []
    },
    {
      "cell_type": "code",
      "metadata": {
        "id": "mKOCr6PJlGPJ",
        "colab_type": "code",
        "colab": {}
      },
      "source": [
        "# Função para fazer uma pesquisa pela Cidade de Parnamirim\n",
        "df1 = dados[dados['city'] == 'Parnamirim']\n",
        "df1.head()"
      ],
      "execution_count": null,
      "outputs": []
    },
    {
      "cell_type": "markdown",
      "metadata": {
        "id": "w8lkhSz_gwWI",
        "colab_type": "text"
      },
      "source": [
        "Arquivo .csv editado do arquivo anterior\n",
        "\n",
        "---\n",
        "\n"
      ]
    },
    {
      "cell_type": "code",
      "metadata": {
        "id": "o-RFOe2m86Qu",
        "colab_type": "code",
        "colab": {
          "base_uri": "https://localhost:8080/",
          "height": 204
        },
        "outputId": "2ba1e705-a6eb-47ba-91e7-096a678bb752"
      },
      "source": [
        "# Arquivo .csv editado do arquivo anterior\n",
        "# Função para pegar o arquivo .csv do repositorio GitHub e em seguida mostrar\n",
        "df = pd.read_csv('https://raw.githubusercontent.com/wevertonAraujo/projeto_final_python_4_cidades/master/dados/dados_covid19_cidade_parnamirim.csv')\n",
        "df.head()"
      ],
      "execution_count": 267,
      "outputs": [
        {
          "output_type": "execute_result",
          "data": {
            "text/html": [
              "<div>\n",
              "<style scoped>\n",
              "    .dataframe tbody tr th:only-of-type {\n",
              "        vertical-align: middle;\n",
              "    }\n",
              "\n",
              "    .dataframe tbody tr th {\n",
              "        vertical-align: top;\n",
              "    }\n",
              "\n",
              "    .dataframe thead th {\n",
              "        text-align: right;\n",
              "    }\n",
              "</style>\n",
              "<table border=\"1\" class=\"dataframe\">\n",
              "  <thead>\n",
              "    <tr style=\"text-align: right;\">\n",
              "      <th></th>\n",
              "      <th>Data</th>\n",
              "      <th>Cidade</th>\n",
              "      <th>Total_Confirmados</th>\n",
              "      <th>Confirmados_Dia</th>\n",
              "      <th>Total_Obitos</th>\n",
              "      <th>Obitos_Dia</th>\n",
              "    </tr>\n",
              "  </thead>\n",
              "  <tbody>\n",
              "    <tr>\n",
              "      <th>0</th>\n",
              "      <td>20/03</td>\n",
              "      <td>Parnamirim</td>\n",
              "      <td>1</td>\n",
              "      <td>1</td>\n",
              "      <td>0</td>\n",
              "      <td>0</td>\n",
              "    </tr>\n",
              "    <tr>\n",
              "      <th>1</th>\n",
              "      <td>21/03</td>\n",
              "      <td>Parnamirim</td>\n",
              "      <td>2</td>\n",
              "      <td>1</td>\n",
              "      <td>0</td>\n",
              "      <td>0</td>\n",
              "    </tr>\n",
              "    <tr>\n",
              "      <th>2</th>\n",
              "      <td>22/03</td>\n",
              "      <td>Parnamirim</td>\n",
              "      <td>3</td>\n",
              "      <td>1</td>\n",
              "      <td>0</td>\n",
              "      <td>0</td>\n",
              "    </tr>\n",
              "    <tr>\n",
              "      <th>3</th>\n",
              "      <td>23/03</td>\n",
              "      <td>Parnamirim</td>\n",
              "      <td>3</td>\n",
              "      <td>0</td>\n",
              "      <td>0</td>\n",
              "      <td>0</td>\n",
              "    </tr>\n",
              "    <tr>\n",
              "      <th>4</th>\n",
              "      <td>24/03</td>\n",
              "      <td>Parnamirim</td>\n",
              "      <td>4</td>\n",
              "      <td>1</td>\n",
              "      <td>0</td>\n",
              "      <td>0</td>\n",
              "    </tr>\n",
              "  </tbody>\n",
              "</table>\n",
              "</div>"
            ],
            "text/plain": [
              "    Data      Cidade  ...  Total_Obitos  Obitos_Dia\n",
              "0  20/03  Parnamirim  ...             0           0\n",
              "1  21/03  Parnamirim  ...             0           0\n",
              "2  22/03  Parnamirim  ...             0           0\n",
              "3  23/03  Parnamirim  ...             0           0\n",
              "4  24/03  Parnamirim  ...             0           0\n",
              "\n",
              "[5 rows x 6 columns]"
            ]
          },
          "metadata": {
            "tags": []
          },
          "execution_count": 267
        }
      ]
    },
    {
      "cell_type": "markdown",
      "metadata": {
        "id": "7DzPsGD1hr-s",
        "colab_type": "text"
      },
      "source": [
        "Codigo para plotar os graficos obtidos das consultas do dados ao arquivo .CSV\n",
        "\n",
        "---\n",
        "\n"
      ]
    },
    {
      "cell_type": "code",
      "metadata": {
        "id": "u5IRhEzJalk9",
        "colab_type": "code",
        "colab": {}
      },
      "source": [
        "# Alterando o tamanho do Gráfico\n",
        "plt.figure(figsize=(20, 6))\n",
        "\n",
        "# Atribuindo um título ao Gráfico\n",
        "plt.title('Covid 19 - Parnamirim/RN')\n",
        "plt.xlabel('Total dos Casos Confirmados por Dia')\n",
        "plt.ylabel('Total de Casos')\n",
        " \n",
        "# Criando um gráfico e Atribuindo uma legenda\n",
        "plt.bar(np.arange(len(df)), df['Total_Confirmados'], label='Total de Casos Confirmados', color='#F4A460', width=0.6, edgecolor='white')\n",
        "plt.xticks(np.arange(len(df)), df['Data'], rotation=90)\n",
        "plt.legend()\n",
        "\n",
        "# Exibindo o gráfico gerado\n",
        "plt.show()"
      ],
      "execution_count": null,
      "outputs": []
    },
    {
      "cell_type": "code",
      "metadata": {
        "id": "QAKMH78icTzx",
        "colab_type": "code",
        "colab": {}
      },
      "source": [
        "# Alterando o tamanho do Gráfico\n",
        "plt.figure(figsize=(20, 6))\n",
        "\n",
        "# Atribuindo um título ao Gráfico\n",
        "plt.title('Covid 19 - Parnamirim/RN')\n",
        "plt.xlabel('Casos Confirmados por Dia')\n",
        "plt.ylabel('Total de Casos')\n",
        " \n",
        "# Criando um gráfico e Atribuindo uma legenda\n",
        "plt.bar(np.arange(len(df)), df['Confirmados_Dia'], label='Casos Confirmados Por Dia', color='b', width=0.6, edgecolor='white')\n",
        "plt.xticks(np.arange(len(df)), df['Data'], rotation=90)\n",
        "plt.legend()\n",
        "\n",
        "# Exibindo o gráfico gerado\n",
        "plt.show()"
      ],
      "execution_count": null,
      "outputs": []
    },
    {
      "cell_type": "code",
      "metadata": {
        "id": "JKqUH8BZdNto",
        "colab_type": "code",
        "colab": {}
      },
      "source": [
        "# Alterando o tamanho do Gráfico\n",
        "plt.figure(figsize=(20, 6))\n",
        "\n",
        "# Atribuindo um título ao Gráfico\n",
        "plt.title('Covid 19 - Parnamirim/RN')\n",
        "plt.xlabel('Total de Óbitos por Dia')\n",
        "plt.ylabel('Total de Óbitos')\n",
        " \n",
        "# Criando um gráfico e Atribuindo uma legenda\n",
        "plt.bar(np.arange(len(df)), df['Total_Obitos'], label='Total de Óbitos', color='red', width=0.6, edgecolor='white')\n",
        "plt.xticks(np.arange(len(df)), df['Data'], rotation=90)\n",
        "plt.legend()\n",
        "\n",
        "# Exibindo o gráfico gerado\n",
        "plt.show()"
      ],
      "execution_count": null,
      "outputs": []
    },
    {
      "cell_type": "code",
      "metadata": {
        "id": "QgjNVCABdrvL",
        "colab_type": "code",
        "colab": {}
      },
      "source": [
        "# Alterando o tamanho do Gráfico\n",
        "plt.figure(figsize=(20, 6))\n",
        "\n",
        "# Atribuindo um título ao Gráfico\n",
        "plt.title('Covid 19 - Parnamirim/RN')\n",
        "plt.xlabel('Óbitos por Dia')\n",
        "plt.ylabel('Total de Óbitos')\n",
        " \n",
        "# Criando um gráfico e Atribuindo uma legenda\n",
        "plt.bar(np.arange(len(df)), df['Obitos_Dia'], label='Óbitos Por Dia', color='#8B0000', width=0.6, edgecolor='white')\n",
        "plt.xticks(np.arange(len(df)), df['Data'], rotation=90)\n",
        "plt.legend()\n",
        "\n",
        "# Exibindo o gráfico gerado\n",
        "plt.show()"
      ],
      "execution_count": null,
      "outputs": []
    }
  ]
}